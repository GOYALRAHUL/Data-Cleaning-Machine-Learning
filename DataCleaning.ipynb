{
 "cells": [
  {
   "cell_type": "code",
   "execution_count": 385,
   "metadata": {
    "scrolled": true
   },
   "outputs": [],
   "source": [
    "import tensorflow as tf\n",
    "import sklearn \n",
    "from tensorflow import keras\n",
    "from tensorflow.keras import layers\n",
    "from tensorflow.keras.layers.experimental import preprocessing\n",
    "from tensorflow.keras.wrappers.scikit_learn import KerasClassifier\n",
    "from sklearn.model_selection import cross_val_score\n",
    "from sklearn.preprocessing import LabelEncoder \n",
    "from sklearn.model_selection import StratifiedKFold\n",
    "from sklearn.preprocessing import StandardScaler\n",
    "from sklearn.pipeline import Pipeline\n",
    "from sklearn.linear_model import LogisticRegression\n",
    "import pandas as pd \n",
    "import numpy as np\n",
    "from numpy import unique\n"
   ]
  },
  {
   "cell_type": "code",
   "execution_count": 386,
   "metadata": {
    "scrolled": true
   },
   "outputs": [
    {
     "name": "stderr",
     "output_type": "stream",
     "text": [
      "c:\\users\\goyal\\appdata\\local\\programs\\python\\python38\\lib\\site-packages\\numpy\\lib\\arraysetops.py:569: FutureWarning: elementwise comparison failed; returning scalar instead, but in the future will perform elementwise comparison\n",
      "  mask |= (ar1 == a)\n"
     ]
    },
    {
     "data": {
      "text/html": [
       "<div>\n",
       "<style scoped>\n",
       "    .dataframe tbody tr th:only-of-type {\n",
       "        vertical-align: middle;\n",
       "    }\n",
       "\n",
       "    .dataframe tbody tr th {\n",
       "        vertical-align: top;\n",
       "    }\n",
       "\n",
       "    .dataframe thead th {\n",
       "        text-align: right;\n",
       "    }\n",
       "</style>\n",
       "<table border=\"1\" class=\"dataframe\">\n",
       "  <thead>\n",
       "    <tr style=\"text-align: right;\">\n",
       "      <th></th>\n",
       "      <th>Flow ID</th>\n",
       "      <th>Source IP</th>\n",
       "      <th>Source Port</th>\n",
       "      <th>Destination IP</th>\n",
       "      <th>Destination Port</th>\n",
       "      <th>Protocol</th>\n",
       "      <th>Timestamp</th>\n",
       "      <th>Flow Duration</th>\n",
       "      <th>Total Fwd Packets</th>\n",
       "      <th>Total Backward Packets</th>\n",
       "      <th>...</th>\n",
       "      <th>Active Std</th>\n",
       "      <th>Active Max</th>\n",
       "      <th>Active Min</th>\n",
       "      <th>Idle Mean</th>\n",
       "      <th>Idle Std</th>\n",
       "      <th>Idle Max</th>\n",
       "      <th>Idle Min</th>\n",
       "      <th>SimillarHTTP</th>\n",
       "      <th>Inbound</th>\n",
       "      <th>TrafficNature</th>\n",
       "    </tr>\n",
       "    <tr>\n",
       "      <th>Unnamed: 0</th>\n",
       "      <th></th>\n",
       "      <th></th>\n",
       "      <th></th>\n",
       "      <th></th>\n",
       "      <th></th>\n",
       "      <th></th>\n",
       "      <th></th>\n",
       "      <th></th>\n",
       "      <th></th>\n",
       "      <th></th>\n",
       "      <th></th>\n",
       "      <th></th>\n",
       "      <th></th>\n",
       "      <th></th>\n",
       "      <th></th>\n",
       "      <th></th>\n",
       "      <th></th>\n",
       "      <th></th>\n",
       "      <th></th>\n",
       "      <th></th>\n",
       "      <th></th>\n",
       "    </tr>\n",
       "  </thead>\n",
       "  <tbody>\n",
       "    <tr>\n",
       "      <th>14657</th>\n",
       "      <td>172.16.0.5-192.168.50.1-962-8456-17</td>\n",
       "      <td>172.16.0.5</td>\n",
       "      <td>962</td>\n",
       "      <td>192.168.50.1</td>\n",
       "      <td>8456</td>\n",
       "      <td>17</td>\n",
       "      <td>08:06.6</td>\n",
       "      <td>1</td>\n",
       "      <td>2</td>\n",
       "      <td>0</td>\n",
       "      <td>...</td>\n",
       "      <td>0.0</td>\n",
       "      <td>0</td>\n",
       "      <td>0</td>\n",
       "      <td>0.0</td>\n",
       "      <td>0.0</td>\n",
       "      <td>0</td>\n",
       "      <td>0</td>\n",
       "      <td>0</td>\n",
       "      <td>1</td>\n",
       "      <td>DrDoS_DNS</td>\n",
       "    </tr>\n",
       "    <tr>\n",
       "      <th>10496</th>\n",
       "      <td>172.16.0.5-192.168.50.1-963-9091-17</td>\n",
       "      <td>172.16.0.5</td>\n",
       "      <td>963</td>\n",
       "      <td>192.168.50.1</td>\n",
       "      <td>9091</td>\n",
       "      <td>17</td>\n",
       "      <td>08:06.6</td>\n",
       "      <td>1</td>\n",
       "      <td>2</td>\n",
       "      <td>0</td>\n",
       "      <td>...</td>\n",
       "      <td>0.0</td>\n",
       "      <td>0</td>\n",
       "      <td>0</td>\n",
       "      <td>0.0</td>\n",
       "      <td>0.0</td>\n",
       "      <td>0</td>\n",
       "      <td>0</td>\n",
       "      <td>0</td>\n",
       "      <td>1</td>\n",
       "      <td>DrDoS_DNS</td>\n",
       "    </tr>\n",
       "    <tr>\n",
       "      <th>8990</th>\n",
       "      <td>172.16.0.5-192.168.50.1-964-5344-17</td>\n",
       "      <td>172.16.0.5</td>\n",
       "      <td>964</td>\n",
       "      <td>192.168.50.1</td>\n",
       "      <td>5344</td>\n",
       "      <td>17</td>\n",
       "      <td>08:06.6</td>\n",
       "      <td>1</td>\n",
       "      <td>2</td>\n",
       "      <td>0</td>\n",
       "      <td>...</td>\n",
       "      <td>0.0</td>\n",
       "      <td>0</td>\n",
       "      <td>0</td>\n",
       "      <td>0.0</td>\n",
       "      <td>0.0</td>\n",
       "      <td>0</td>\n",
       "      <td>0</td>\n",
       "      <td>0</td>\n",
       "      <td>1</td>\n",
       "      <td>DrDoS_DNS</td>\n",
       "    </tr>\n",
       "    <tr>\n",
       "      <th>11307</th>\n",
       "      <td>172.16.0.5-192.168.50.1-965-47866-17</td>\n",
       "      <td>172.16.0.5</td>\n",
       "      <td>965</td>\n",
       "      <td>192.168.50.1</td>\n",
       "      <td>47866</td>\n",
       "      <td>17</td>\n",
       "      <td>08:06.6</td>\n",
       "      <td>1</td>\n",
       "      <td>2</td>\n",
       "      <td>0</td>\n",
       "      <td>...</td>\n",
       "      <td>0.0</td>\n",
       "      <td>0</td>\n",
       "      <td>0</td>\n",
       "      <td>0.0</td>\n",
       "      <td>0.0</td>\n",
       "      <td>0</td>\n",
       "      <td>0</td>\n",
       "      <td>0</td>\n",
       "      <td>1</td>\n",
       "      <td>DrDoS_DNS</td>\n",
       "    </tr>\n",
       "    <tr>\n",
       "      <th>9627</th>\n",
       "      <td>172.16.0.5-192.168.50.1-966-54980-17</td>\n",
       "      <td>172.16.0.5</td>\n",
       "      <td>966</td>\n",
       "      <td>192.168.50.1</td>\n",
       "      <td>54980</td>\n",
       "      <td>17</td>\n",
       "      <td>08:06.6</td>\n",
       "      <td>46</td>\n",
       "      <td>2</td>\n",
       "      <td>0</td>\n",
       "      <td>...</td>\n",
       "      <td>0.0</td>\n",
       "      <td>0</td>\n",
       "      <td>0</td>\n",
       "      <td>0.0</td>\n",
       "      <td>0.0</td>\n",
       "      <td>0</td>\n",
       "      <td>0</td>\n",
       "      <td>0</td>\n",
       "      <td>1</td>\n",
       "      <td>DrDoS_DNS</td>\n",
       "    </tr>\n",
       "  </tbody>\n",
       "</table>\n",
       "<p>5 rows × 87 columns</p>\n",
       "</div>"
      ],
      "text/plain": [
       "                                         Flow ID   Source IP   Source Port  \\\n",
       "Unnamed: 0                                                                   \n",
       "14657        172.16.0.5-192.168.50.1-962-8456-17  172.16.0.5           962   \n",
       "10496        172.16.0.5-192.168.50.1-963-9091-17  172.16.0.5           963   \n",
       "8990         172.16.0.5-192.168.50.1-964-5344-17  172.16.0.5           964   \n",
       "11307       172.16.0.5-192.168.50.1-965-47866-17  172.16.0.5           965   \n",
       "9627        172.16.0.5-192.168.50.1-966-54980-17  172.16.0.5           966   \n",
       "\n",
       "            Destination IP   Destination Port   Protocol  Timestamp  \\\n",
       "Unnamed: 0                                                            \n",
       "14657         192.168.50.1               8456         17    08:06.6   \n",
       "10496         192.168.50.1               9091         17    08:06.6   \n",
       "8990          192.168.50.1               5344         17    08:06.6   \n",
       "11307         192.168.50.1              47866         17    08:06.6   \n",
       "9627          192.168.50.1              54980         17    08:06.6   \n",
       "\n",
       "             Flow Duration   Total Fwd Packets   Total Backward Packets  ...  \\\n",
       "Unnamed: 0                                                               ...   \n",
       "14657                    1                   2                        0  ...   \n",
       "10496                    1                   2                        0  ...   \n",
       "8990                     1                   2                        0  ...   \n",
       "11307                    1                   2                        0  ...   \n",
       "9627                    46                   2                        0  ...   \n",
       "\n",
       "             Active Std   Active Max   Active Min  Idle Mean   Idle Std  \\\n",
       "Unnamed: 0                                                                \n",
       "14657               0.0            0            0        0.0        0.0   \n",
       "10496               0.0            0            0        0.0        0.0   \n",
       "8990                0.0            0            0        0.0        0.0   \n",
       "11307               0.0            0            0        0.0        0.0   \n",
       "9627                0.0            0            0        0.0        0.0   \n",
       "\n",
       "             Idle Max   Idle Min  SimillarHTTP   Inbound  TrafficNature  \n",
       "Unnamed: 0                                                               \n",
       "14657               0          0             0         1      DrDoS_DNS  \n",
       "10496               0          0             0         1      DrDoS_DNS  \n",
       "8990                0          0             0         1      DrDoS_DNS  \n",
       "11307               0          0             0         1      DrDoS_DNS  \n",
       "9627                0          0             0         1      DrDoS_DNS  \n",
       "\n",
       "[5 rows x 87 columns]"
      ]
     },
     "execution_count": 386,
     "metadata": {},
     "output_type": "execute_result"
    }
   ],
   "source": [
    "#Reading the Dataset file \n",
    "Malicious_data = pd.read_csv(\"C:\\Jupyter running\\DrDoS_DNS.csv\", index_col=0, low_memory=False) \n",
    "#Display top 5 rows of dataset\n",
    "Malicious_data.head()\n",
    "# Display the last 5 rows of dataset\n",
    "Malicious_data.tail()"
   ]
  },
  {
   "cell_type": "code",
   "execution_count": 387,
   "metadata": {},
   "outputs": [],
   "source": [
    "Malicious_features = Malicious_data.copy()\n",
    "Malicious_labels = Malicious_features.pop('TrafficNature')"
   ]
  },
  {
   "cell_type": "code",
   "execution_count": 388,
   "metadata": {},
   "outputs": [],
   "source": [
    "# To allow Panda to show upto 100 rows of data\n",
    "pd.options.display.max_rows=100\n",
    "# To get np array values in two decimal points\n",
    "np.set_printoptions(precision=2, suppress= True)"
   ]
  },
  {
   "cell_type": "code",
   "execution_count": 389,
   "metadata": {
    "scrolled": true
   },
   "outputs": [
    {
     "name": "stdout",
     "output_type": "stream",
     "text": [
      "Flow ID                         1031905\n",
      " Source IP                          106\n",
      " Source Port                       2996\n",
      " Destination IP                     116\n",
      " Destination Port                 65531\n",
      " Protocol                             3\n",
      " Timestamp                         6862\n",
      " Flow Duration                    12978\n",
      " Total Fwd Packets                  154\n",
      " Total Backward Packets              79\n",
      "Total Length of Fwd Packets        1616\n",
      " Total Length of Bwd Packets        343\n",
      " Fwd Packet Length Max             1398\n",
      " Fwd Packet Length Min             1342\n",
      " Fwd Packet Length Mean            1723\n",
      " Fwd Packet Length Std              444\n",
      "Bwd Packet Length Max               175\n",
      " Bwd Packet Length Min              111\n",
      " Bwd Packet Length Mean             403\n",
      " Bwd Packet Length Std              308\n",
      "Flow Bytes/s                      16209\n",
      " Flow Packets/s                   13765\n",
      " Flow IAT Mean                    13807\n",
      " Flow IAT Std                     14584\n",
      " Flow IAT Max                      8869\n",
      " Flow IAT Min                       418\n",
      "Fwd IAT Total                     12243\n",
      " Fwd IAT Mean                     12931\n",
      " Fwd IAT Std                      13522\n",
      " Fwd IAT Max                       8098\n",
      " Fwd IAT Min                        339\n",
      "Bwd IAT Total                       757\n",
      " Bwd IAT Mean                       761\n",
      " Bwd IAT Std                        743\n",
      " Bwd IAT Max                        747\n",
      " Bwd IAT Min                         27\n",
      "Fwd PSH Flags                         2\n",
      " Bwd PSH Flags                        1\n",
      " Fwd URG Flags                        1\n",
      " Bwd URG Flags                        1\n",
      " Fwd Header Length                 2612\n",
      " Bwd Header Length                  156\n",
      "Fwd Packets/s                     13733\n",
      " Bwd Packets/s                     1791\n",
      " Min Packet Length                 1340\n",
      " Max Packet Length                 1397\n",
      " Packet Length Mean                1921\n",
      " Packet Length Std                  589\n",
      " Packet Length Variance             589\n",
      "FIN Flag Count                        1\n",
      " SYN Flag Count                       2\n",
      " RST Flag Count                       2\n",
      " PSH Flag Count                       1\n",
      " ACK Flag Count                       2\n",
      " URG Flag Count                       2\n",
      " CWE Flag Count                       2\n",
      " ECE Flag Count                       1\n",
      " Down/Up Ratio                        9\n",
      " Average Packet Size               2075\n",
      " Avg Fwd Segment Size              1723\n",
      " Avg Bwd Segment Size               403\n",
      " Fwd Header Length.1               2612\n",
      "Fwd Avg Bytes/Bulk                    1\n",
      " Fwd Avg Packets/Bulk                 1\n",
      " Fwd Avg Bulk Rate                    1\n",
      " Bwd Avg Bytes/Bulk                   1\n",
      " Bwd Avg Packets/Bulk                 1\n",
      "Bwd Avg Bulk Rate                     1\n",
      "Subflow Fwd Packets                 154\n",
      " Subflow Fwd Bytes                 1616\n",
      " Subflow Bwd Packets                 79\n",
      " Subflow Bwd Bytes                  343\n",
      "Init_Win_bytes_forward              200\n",
      " Init_Win_bytes_backward            162\n",
      " act_data_pkt_fwd                    90\n",
      " min_seg_size_forward               365\n",
      "Active Mean                         310\n",
      " Active Std                         179\n",
      " Active Max                         299\n",
      " Active Min                         285\n",
      "Idle Mean                           317\n",
      " Idle Std                           199\n",
      " Idle Max                           315\n",
      " Idle Min                           312\n",
      "SimillarHTTP                         49\n",
      " Inbound                              2\n",
      "dtype: int64\n"
     ]
    }
   ],
   "source": [
    "# to get number of unique values\n",
    "counts=Malicious_features.nunique()\n",
    "print(counts)"
   ]
  },
  {
   "cell_type": "code",
   "execution_count": 390,
   "metadata": {
    "scrolled": true
   },
   "outputs": [
    {
     "name": "stdout",
     "output_type": "stream",
     "text": [
      "[37, 38, 39, 49, 52, 56, 62, 63, 64, 65, 66, 67]\n",
      "Index([' Bwd PSH Flags', ' Fwd URG Flags', ' Bwd URG Flags', 'FIN Flag Count',\n",
      "       ' PSH Flag Count', ' ECE Flag Count', 'Fwd Avg Bytes/Bulk',\n",
      "       ' Fwd Avg Packets/Bulk', ' Fwd Avg Bulk Rate', ' Bwd Avg Bytes/Bulk',\n",
      "       ' Bwd Avg Packets/Bulk', 'Bwd Avg Bulk Rate'],\n",
      "      dtype='object')\n",
      "(1048575, 86)\n",
      "(1048575, 74)\n"
     ]
    }
   ],
   "source": [
    "# to delete the columns with only 1 unique value\n",
    "to_del=[i for i,v in enumerate(counts) if v==1]\n",
    "print(to_del)\n",
    "colname = Malicious_features.columns[to_del]\n",
    "print (colname)\n",
    "print(Malicious_features.shape)\n",
    "Malicious_features.drop(colname, axis=1, inplace= True)\n",
    "print(Malicious_features.shape)"
   ]
  },
  {
   "cell_type": "code",
   "execution_count": 391,
   "metadata": {},
   "outputs": [
    {
     "name": "stdout",
     "output_type": "stream",
     "text": [
      "0, 1031905, 98.4%\n",
      "1, 106, 0.0%\n",
      "2, 2996, 0.3%\n",
      "3, 116, 0.0%\n",
      "4, 65531, 6.2%\n",
      "5, 3, 0.0%\n",
      "6, 6862, 0.7%\n",
      "7, 12978, 1.2%\n",
      "8, 154, 0.0%\n",
      "9, 79, 0.0%\n",
      "10, 1616, 0.2%\n",
      "11, 343, 0.0%\n",
      "12, 1398, 0.1%\n",
      "13, 1342, 0.1%\n",
      "14, 1723, 0.2%\n",
      "15, 444, 0.0%\n",
      "16, 175, 0.0%\n",
      "17, 111, 0.0%\n",
      "18, 403, 0.0%\n",
      "19, 308, 0.0%\n",
      "20, 16233, 1.5%\n",
      "21, 13765, 1.3%\n",
      "22, 13807, 1.3%\n",
      "23, 14584, 1.4%\n",
      "24, 8869, 0.8%\n",
      "25, 418, 0.0%\n",
      "26, 12243, 1.2%\n",
      "27, 12931, 1.2%\n",
      "28, 13522, 1.3%\n",
      "29, 8098, 0.8%\n",
      "30, 339, 0.0%\n",
      "31, 757, 0.1%\n",
      "32, 761, 0.1%\n",
      "33, 743, 0.1%\n",
      "34, 747, 0.1%\n",
      "35, 27, 0.0%\n",
      "36, 2, 0.0%\n",
      "37, 2612, 0.2%\n",
      "38, 156, 0.0%\n",
      "39, 13733, 1.3%\n",
      "40, 1791, 0.2%\n",
      "41, 1340, 0.1%\n",
      "42, 1397, 0.1%\n",
      "43, 1921, 0.2%\n",
      "44, 589, 0.1%\n",
      "45, 589, 0.1%\n",
      "46, 2, 0.0%\n",
      "47, 2, 0.0%\n",
      "48, 2, 0.0%\n",
      "49, 2, 0.0%\n",
      "50, 2, 0.0%\n",
      "51, 9, 0.0%\n",
      "52, 2075, 0.2%\n",
      "53, 1723, 0.2%\n",
      "54, 403, 0.0%\n",
      "55, 2612, 0.2%\n",
      "56, 154, 0.0%\n",
      "57, 1616, 0.2%\n",
      "58, 79, 0.0%\n",
      "59, 343, 0.0%\n",
      "60, 200, 0.0%\n",
      "61, 162, 0.0%\n",
      "62, 90, 0.0%\n",
      "63, 365, 0.0%\n",
      "64, 310, 0.0%\n",
      "65, 179, 0.0%\n",
      "66, 299, 0.0%\n",
      "67, 285, 0.0%\n",
      "68, 317, 0.0%\n",
      "69, 199, 0.0%\n",
      "70, 315, 0.0%\n",
      "71, 312, 0.0%\n",
      "72, 49, 0.0%\n",
      "73, 2, 0.0%\n"
     ]
    }
   ],
   "source": [
    "# to find the columns with less variance\n",
    "for i in range(Malicious_features.shape[1]):\n",
    " num = len(unique(np.array(Malicious_features)[:,i]))\n",
    " percentage = float(num / Malicious_features.shape[0]* 100)\n",
    " print('%d, %d, %.1f%%' % (i,num,percentage))"
   ]
  },
  {
   "cell_type": "code",
   "execution_count": 392,
   "metadata": {
    "scrolled": true
   },
   "outputs": [
    {
     "name": "stdout",
     "output_type": "stream",
     "text": [
      "[1, 2, 3, 5, 6, 8, 9, 10, 11, 12, 13, 14, 15, 16, 17, 18, 19, 24, 25, 29, 30, 31, 32, 33, 34, 35, 36, 37, 38, 40, 41, 42, 43, 44, 45, 46, 47, 48, 49, 50, 51, 52, 53, 54, 55, 56, 57, 58, 59, 60, 61, 62, 63, 64, 65, 66, 67, 68, 69, 70, 71, 72, 73]\n",
      "Index([' Source IP', ' Source Port', ' Destination IP', ' Protocol',\n",
      "       ' Timestamp', ' Total Fwd Packets', ' Total Backward Packets',\n",
      "       'Total Length of Fwd Packets', ' Total Length of Bwd Packets',\n",
      "       ' Fwd Packet Length Max', ' Fwd Packet Length Min',\n",
      "       ' Fwd Packet Length Mean', ' Fwd Packet Length Std',\n",
      "       'Bwd Packet Length Max', ' Bwd Packet Length Min',\n",
      "       ' Bwd Packet Length Mean', ' Bwd Packet Length Std', ' Flow IAT Max',\n",
      "       ' Flow IAT Min', ' Fwd IAT Max', ' Fwd IAT Min', 'Bwd IAT Total',\n",
      "       ' Bwd IAT Mean', ' Bwd IAT Std', ' Bwd IAT Max', ' Bwd IAT Min',\n",
      "       'Fwd PSH Flags', ' Fwd Header Length', ' Bwd Header Length',\n",
      "       ' Bwd Packets/s', ' Min Packet Length', ' Max Packet Length',\n",
      "       ' Packet Length Mean', ' Packet Length Std', ' Packet Length Variance',\n",
      "       ' SYN Flag Count', ' RST Flag Count', ' ACK Flag Count',\n",
      "       ' URG Flag Count', ' CWE Flag Count', ' Down/Up Ratio',\n",
      "       ' Average Packet Size', ' Avg Fwd Segment Size',\n",
      "       ' Avg Bwd Segment Size', ' Fwd Header Length.1', 'Subflow Fwd Packets',\n",
      "       ' Subflow Fwd Bytes', ' Subflow Bwd Packets', ' Subflow Bwd Bytes',\n",
      "       'Init_Win_bytes_forward', ' Init_Win_bytes_backward',\n",
      "       ' act_data_pkt_fwd', ' min_seg_size_forward', 'Active Mean',\n",
      "       ' Active Std', ' Active Max', ' Active Min', 'Idle Mean', ' Idle Std',\n",
      "       ' Idle Max', ' Idle Min', 'SimillarHTTP', ' Inbound'],\n",
      "      dtype='object')\n",
      "(1048575, 74)\n",
      "(1048575, 11)\n"
     ]
    }
   ],
   "source": [
    "# Deleting the columns with less variance\n",
    "to_del=[i for i,v in enumerate(Malicious_features.nunique()) if float(v)/Malicious_features.shape[0]* 100 < 1]\n",
    "print(to_del)\n",
    "colname = Malicious_features.columns[to_del]\n",
    "print (colname)\n",
    "print(Malicious_features.shape)\n",
    "Malicious_features.drop(colname, axis=1, inplace= True)\n",
    "print(Malicious_features.shape)\n"
   ]
  },
  {
   "cell_type": "code",
   "execution_count": 393,
   "metadata": {
    "scrolled": false
   },
   "outputs": [
    {
     "name": "stdout",
     "output_type": "stream",
     "text": [
      "Flow ID               0\n",
      " Destination Port     0\n",
      " Flow Duration        0\n",
      "Flow Bytes/s         11\n",
      " Flow Packets/s       0\n",
      " Flow IAT Mean        0\n",
      " Flow IAT Std         0\n",
      "Fwd IAT Total         0\n",
      " Fwd IAT Mean         0\n",
      " Fwd IAT Std          0\n",
      "Fwd Packets/s         0\n",
      "dtype: int64\n"
     ]
    }
   ],
   "source": [
    "# To see the columns with null values\n",
    "null_counts=Malicious_features.isnull().sum()\n",
    "print(null_counts)"
   ]
  },
  {
   "cell_type": "code",
   "execution_count": 394,
   "metadata": {
    "scrolled": true
   },
   "outputs": [
    {
     "data": {
      "text/plain": [
       "Flow ID               object\n",
       " Destination Port      int64\n",
       " Flow Duration         int64\n",
       "Flow Bytes/s         float64\n",
       " Flow Packets/s      float64\n",
       " Flow IAT Mean       float64\n",
       " Flow IAT Std        float64\n",
       "Fwd IAT Total          int64\n",
       " Fwd IAT Mean        float64\n",
       " Fwd IAT Std         float64\n",
       "Fwd Packets/s        float64\n",
       "dtype: object"
      ]
     },
     "execution_count": 394,
     "metadata": {},
     "output_type": "execute_result"
    }
   ],
   "source": [
    "#To see the columns names with there data type\n",
    "Malicious_features.dtypes"
   ]
  },
  {
   "cell_type": "code",
   "execution_count": 395,
   "metadata": {
    "scrolled": true
   },
   "outputs": [
    {
     "name": "stdout",
     "output_type": "stream",
     "text": [
      "Index(['Flow ID'], dtype='object')\n"
     ]
    }
   ],
   "source": [
    "#To find the columns with datatype as object (string)\n",
    "String_columns=Malicious_features.columns[Malicious_features.dtypes == 'object']\n",
    "print(String_columns)"
   ]
  },
  {
   "cell_type": "code",
   "execution_count": 396,
   "metadata": {
    "scrolled": true
   },
   "outputs": [
    {
     "name": "stdout",
     "output_type": "stream",
     "text": [
      "(1048575, 10)\n"
     ]
    }
   ],
   "source": [
    "# To delete the columns with datatype object\n",
    "Malicious_features.drop(String_columns,axis=1, inplace= True)\n",
    "print(Malicious_features.shape)"
   ]
  },
  {
   "cell_type": "code",
   "execution_count": 397,
   "metadata": {},
   "outputs": [
    {
     "name": "stdout",
     "output_type": "stream",
     "text": [
      " Destination Port     0\n",
      " Flow Duration        0\n",
      "Flow Bytes/s         11\n",
      " Flow Packets/s       0\n",
      " Flow IAT Mean        0\n",
      " Flow IAT Std         0\n",
      "Fwd IAT Total         0\n",
      " Fwd IAT Mean         0\n",
      " Fwd IAT Std          0\n",
      "Fwd Packets/s         0\n",
      "dtype: int64\n"
     ]
    }
   ],
   "source": [
    "#To see the columns with not a number value\n",
    "NAN_counts=Malicious_features.isna().sum()\n",
    "print(NAN_counts)"
   ]
  },
  {
   "cell_type": "code",
   "execution_count": 398,
   "metadata": {
    "scrolled": true
   },
   "outputs": [
    {
     "data": {
      "text/plain": [
       "Flow Bytes/s          Flow Bytes/s\n",
       " Flow Packets/s     Flow Packets/s\n",
       "dtype: object"
      ]
     },
     "execution_count": 398,
     "metadata": {},
     "output_type": "execute_result"
    }
   ],
   "source": [
    "col_name = Malicious_features.columns.to_series()[np.isinf(Malicious_features).any()] \n",
    "col_name"
   ]
  },
  {
   "cell_type": "code",
   "execution_count": 399,
   "metadata": {},
   "outputs": [
    {
     "name": "stdout",
     "output_type": "stream",
     "text": [
      "(1048575, 8)\n"
     ]
    }
   ],
   "source": [
    "Malicious_features.drop(columns=col_name, inplace=True)\n",
    "print(Malicious_features.shape)"
   ]
  },
  {
   "cell_type": "code",
   "execution_count": null,
   "metadata": {},
   "outputs": [],
   "source": []
  },
  {
   "cell_type": "code",
   "execution_count": 400,
   "metadata": {
    "scrolled": false
   },
   "outputs": [
    {
     "data": {
      "text/plain": [
       "Unnamed: 0\n",
       "425     DrDoS_DNS\n",
       "430     DrDoS_DNS\n",
       "1654    DrDoS_DNS\n",
       "2927    DrDoS_DNS\n",
       "694     DrDoS_DNS\n",
       "Name: TrafficNature, dtype: object"
      ]
     },
     "execution_count": 400,
     "metadata": {},
     "output_type": "execute_result"
    }
   ],
   "source": [
    "Malicious_labels.head()"
   ]
  },
  {
   "cell_type": "code",
   "execution_count": 401,
   "metadata": {},
   "outputs": [
    {
     "data": {
      "text/plain": [
       "array(['DrDoS_DNS', 'BENIGN'], dtype=object)"
      ]
     },
     "execution_count": 401,
     "metadata": {},
     "output_type": "execute_result"
    }
   ],
   "source": [
    "Malicious_labels.unique()"
   ]
  },
  {
   "cell_type": "code",
   "execution_count": 402,
   "metadata": {},
   "outputs": [
    {
     "name": "stdout",
     "output_type": "stream",
     "text": [
      "(943718, 8)\n",
      "(943718,)\n",
      "(1026826, 8)\n",
      "(1026826,)\n"
     ]
    }
   ],
   "source": [
    "Malicious_features_train = Malicious_features.sample(frac=0.9, random_state=1)\n",
    "Malicious_features_test = Malicious_features.drop(Malicious_train.index)\n",
    "Malicious_labels_train = Malicious_labels.sample(frac=0.9, random_state=1)\n",
    "Malicious_labels_test = Malicious_labels.drop(Malicious_train.index)\n",
    "print(Malicious_features_train.shape)\n",
    "print(Malicious_labels_train.shape)\n",
    "print(Malicious_features_test.shape)\n",
    "print(Malicious_labels_test.shape)"
   ]
  },
  {
   "cell_type": "code",
   "execution_count": 403,
   "metadata": {
    "scrolled": true
   },
   "outputs": [
    {
     "name": "stdout",
     "output_type": "stream",
     "text": [
      "['DrDoS_DNS' 'DrDoS_DNS' 'DrDoS_DNS' ... 'DrDoS_DNS' 'DrDoS_DNS'\n",
      " 'DrDoS_DNS']\n",
      "[1 1 1 ... 1 1 1]\n"
     ]
    }
   ],
   "source": [
    "#Encoding Labels\n",
    "Train_labels=Malicious_labels_train.values\n",
    "Test_labels=Malicious_labels_test.values\n",
    "le= LabelEncoder()\n",
    "\n",
    "le.fit(Train_labels)\n",
    "Malicious_labels_train=le.transform(Train_labels)\n",
    "le.fit(Test_labels)\n",
    "Malicious_labels_test=le.transform(Test_labels)\n",
    "\n",
    "\n",
    "print(Test_labels)\n",
    "print(Malicious_labels_test)\n",
    "\n",
    "#print (Malicious_labels['Traffic_Nature'])\n",
    "#le.fit(Malicious_labels.)\n",
    "#Malicious_labels['Categorical_label']= le.transform(Malicious_labels.Traffic_Nature)"
   ]
  },
  {
   "cell_type": "code",
   "execution_count": null,
   "metadata": {},
   "outputs": [],
   "source": []
  },
  {
   "cell_type": "code",
   "execution_count": 404,
   "metadata": {},
   "outputs": [],
   "source": [
    "\n",
    "\n",
    "#Malicious_features_train = Malicious_train.copy()\n",
    "#Malicious_labels_train = Malicious_features_train.pop('TrafficNature')\n",
    "#Malicious_features_test = Malicious_test.copy()\n",
    "#Malicious_labels_test = Malicious_features_test.pop('TrafficNature')"
   ]
  },
  {
   "cell_type": "code",
   "execution_count": 405,
   "metadata": {
    "scrolled": true
   },
   "outputs": [],
   "source": [
    "#\n",
    "#Malicious_features = np.array(Malicious_features)\n",
    "#Malicious_features"
   ]
  },
  {
   "cell_type": "code",
   "execution_count": 406,
   "metadata": {},
   "outputs": [],
   "source": [
    "#normalize = preprocessing.Normalization()\n",
    "#normalize.adapt(Malicious_features)"
   ]
  },
  {
   "cell_type": "code",
   "execution_count": 407,
   "metadata": {},
   "outputs": [
    {
     "name": "stderr",
     "output_type": "stream",
     "text": [
      "c:\\users\\goyal\\appdata\\local\\programs\\python\\python38\\lib\\site-packages\\sklearn\\linear_model\\_logistic.py:763: ConvergenceWarning: lbfgs failed to converge (status=1):\n",
      "STOP: TOTAL NO. of ITERATIONS REACHED LIMIT.\n",
      "\n",
      "Increase the number of iterations (max_iter) or scale the data as shown in:\n",
      "    https://scikit-learn.org/stable/modules/preprocessing.html\n",
      "Please also refer to the documentation for alternative solver options:\n",
      "    https://scikit-learn.org/stable/modules/linear_model.html#logistic-regression\n",
      "  n_iter_i = _check_optimize_result(\n"
     ]
    },
    {
     "data": {
      "text/plain": [
       "0.9984"
      ]
     },
     "execution_count": 407,
     "metadata": {},
     "output_type": "execute_result"
    }
   ],
   "source": [
    "X=Malicious_features_train\n",
    "y=Malicious_labels_train\n",
    "\n",
    "LR = LogisticRegression(random_state=0, solver='lbfgs', multi_class='ovr').fit(X, y)\n",
    "LR.predict(Malicious_features_test)\n",
    "round(LR.score(Malicious_features_test,Malicious_labels_test), 4)"
   ]
  }
 ],
 "metadata": {
  "kernelspec": {
   "display_name": "Python 3",
   "language": "python",
   "name": "python3"
  },
  "language_info": {
   "codemirror_mode": {
    "name": "ipython",
    "version": 3
   },
   "file_extension": ".py",
   "mimetype": "text/x-python",
   "name": "python",
   "nbconvert_exporter": "python",
   "pygments_lexer": "ipython3",
   "version": "3.8.0"
  }
 },
 "nbformat": 4,
 "nbformat_minor": 4
}
